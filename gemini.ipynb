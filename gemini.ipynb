{
 "cells": [
  {
   "cell_type": "code",
   "execution_count": null,
   "id": "8b161ad0-c825-4b68-8bcb-8374a1437644",
   "metadata": {},
   "outputs": [],
   "source": [
    "import os\n",
    "import google.generativeai as genai\n",
    "import time"
   ]
  },
  {
   "cell_type": "code",
   "execution_count": null,
   "id": "58317b8f-9dcd-4e26-8636-fec7d884e3e1",
   "metadata": {},
   "outputs": [],
   "source": [
    "test_data_dir = './test_dataset'\n",
    "test_result_dir = './test_results/gemini'\n",
    "\n",
    "prompt_type_list = [\"zero_shot_template\", \"few_shot_template\", \"CoT_CSP_template\", \"zero_shot_CSP_template\"]\n",
    "\n",
    "gt_type_list = [\"defect\", \"clean\"]\n",
    "\n",
    "api_key = 'your api key'\n",
    "api_key_list = [api_key]\n",
    "api_idx = -1\n",
    "\n",
    "number_list = [str(num) for num in range(1, 31)]\n",
    "\n",
    "start_str = \" : start===================================================\\n\"\n",
    "end_str = \"\\nend===================================================\\n\\n\\n\\n\\n\\n\\n\\n\\n\\n\\n\\n\\n\""
   ]
  },
  {
   "cell_type": "code",
   "execution_count": null,
   "id": "223b35e6-bf78-4fa4-a754-1292f7edf06d",
   "metadata": {},
   "outputs": [],
   "source": [
    "def get_content(template_file):\n",
    "    with open(template_file, \"r\", encoding=\"utf-8\") as f:\n",
    "        return f.read()\n",
    "if __name__ == \"__main__\":\n",
    "    for prompt_type in prompt_type_list:\n",
    "        for gt_type in gt_type_list:\n",
    "            result_file_name = test_result_dir + '/' + gt_type + '_' + prompt_type + '_' + 'result.txt'\n",
    "            api_idx = api_idx + 1\n",
    "            print(api_key_list[api_idx])\n",
    "            with open(result_file_name, \"w\", encoding=\"utf-8\") as f:\n",
    "                for data_num in number_list:\n",
    "                    input_dir = test_data_dir + '/' + data_num + '/' + gt_type + '/' + data_num + '_' + gt_type + '_' + prompt_type + \".txt\"\n",
    "                    print(input_dir)\n",
    "                    input_prompt = get_content(input_dir)\n",
    "                    ret = \"\"\n",
    "                    genai.configure(api_key=api_key_list[api_idx])\n",
    "                    model = genai.GenerativeModel('gemini-pro')\n",
    "                    response = model.generate_content(input_prompt)\n",
    "                    response = response.text\n",
    "    \n",
    "                    if prompt_type == \"CoT_CSP_template\":\n",
    "                        ret = data_num + start_str + response\n",
    "                        ret = ret + end_str\n",
    "                    else:\n",
    "                        ret = ret + response\n",
    "                        ret = ret.replace('Label: ', '')\n",
    "                        ret = ret + '\\n'\n",
    "                    f.write(ret)\n",
    "                    time.sleep(33)\n",
    "        \n",
    "    print(\"done!\")"
   ]
  }
 ],
 "metadata": {
  "kernelspec": {
   "display_name": "Python 3 (ipykernel)",
   "language": "python",
   "name": "python3"
  },
  "language_info": {
   "codemirror_mode": {
    "name": "ipython",
    "version": 3
   },
   "file_extension": ".py",
   "mimetype": "text/x-python",
   "name": "python",
   "nbconvert_exporter": "python",
   "pygments_lexer": "ipython3",
   "version": "3.12.2"
  }
 },
 "nbformat": 4,
 "nbformat_minor": 5
}
